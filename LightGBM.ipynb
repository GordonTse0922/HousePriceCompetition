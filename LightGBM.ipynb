{
 "metadata": {
  "language_info": {
   "codemirror_mode": {
    "name": "ipython",
    "version": 3
   },
   "file_extension": ".py",
   "mimetype": "text/x-python",
   "name": "python",
   "nbconvert_exporter": "python",
   "pygments_lexer": "ipython3",
   "version": "3.8.3-final"
  },
  "orig_nbformat": 2,
  "kernelspec": {
   "name": "python3",
   "display_name": "Python 3.8.3 64-bit ('base': conda)",
   "metadata": {
    "interpreter": {
     "hash": "e640e346c0e47f21f94ae2b693f1a65f0922361e43f4c12ea47c714347905929"
    }
   }
  }
 },
 "nbformat": 4,
 "nbformat_minor": 2,
 "cells": [
  {
   "cell_type": "code",
   "execution_count": 4,
   "metadata": {},
   "outputs": [
    {
     "output_type": "error",
     "ename": "ImportError",
     "evalue": "cannot import name 'PANDAS_INSTALLED' from 'lightgbm.compat' (/Users/gordon/opt/anaconda3/lib/python3.8/site-packages/lightgbm/compat.py)",
     "traceback": [
      "\u001b[0;31m---------------------------------------------------------------------------\u001b[0m",
      "\u001b[0;31mImportError\u001b[0m                               Traceback (most recent call last)",
      "\u001b[0;32m<ipython-input-4-1e7d7197dbdc>\u001b[0m in \u001b[0;36m<module>\u001b[0;34m\u001b[0m\n\u001b[1;32m      6\u001b[0m \u001b[0;32mfrom\u001b[0m \u001b[0msklearn\u001b[0m\u001b[0;34m.\u001b[0m\u001b[0mmodel_selection\u001b[0m \u001b[0;32mimport\u001b[0m \u001b[0mKFold\u001b[0m\u001b[0;34m,\u001b[0m \u001b[0mcross_val_score\u001b[0m\u001b[0;34m,\u001b[0m \u001b[0mtrain_test_split\u001b[0m\u001b[0;34m\u001b[0m\u001b[0;34m\u001b[0m\u001b[0m\n\u001b[1;32m      7\u001b[0m \u001b[0;32mimport\u001b[0m \u001b[0mxgboost\u001b[0m \u001b[0;32mas\u001b[0m \u001b[0mxgb\u001b[0m\u001b[0;34m\u001b[0m\u001b[0;34m\u001b[0m\u001b[0m\n\u001b[0;32m----> 8\u001b[0;31m \u001b[0;32mimport\u001b[0m \u001b[0mlightgbm\u001b[0m \u001b[0;32mas\u001b[0m \u001b[0mlgb\u001b[0m\u001b[0;34m\u001b[0m\u001b[0;34m\u001b[0m\u001b[0m\n\u001b[0m\u001b[1;32m      9\u001b[0m \u001b[0;32mimport\u001b[0m \u001b[0mmatplotlib\u001b[0m\u001b[0;34m.\u001b[0m\u001b[0mpyplot\u001b[0m \u001b[0;32mas\u001b[0m \u001b[0mplt\u001b[0m\u001b[0;34m\u001b[0m\u001b[0;34m\u001b[0m\u001b[0m\n\u001b[1;32m     10\u001b[0m \u001b[0mdirname\u001b[0m\u001b[0;34m=\u001b[0m\u001b[0mos\u001b[0m\u001b[0;34m.\u001b[0m\u001b[0mgetcwd\u001b[0m\u001b[0;34m(\u001b[0m\u001b[0;34m)\u001b[0m\u001b[0;34m\u001b[0m\u001b[0;34m\u001b[0m\u001b[0m\n",
      "\u001b[0;32m~/opt/anaconda3/lib/python3.8/site-packages/lightgbm/__init__.py\u001b[0m in \u001b[0;36m<module>\u001b[0;34m\u001b[0m\n\u001b[1;32m      6\u001b[0m \u001b[0;32mfrom\u001b[0m \u001b[0m__future__\u001b[0m \u001b[0;32mimport\u001b[0m \u001b[0mabsolute_import\u001b[0m\u001b[0;34m\u001b[0m\u001b[0;34m\u001b[0m\u001b[0m\n\u001b[1;32m      7\u001b[0m \u001b[0;34m\u001b[0m\u001b[0m\n\u001b[0;32m----> 8\u001b[0;31m \u001b[0;32mfrom\u001b[0m \u001b[0;34m.\u001b[0m\u001b[0mbasic\u001b[0m \u001b[0;32mimport\u001b[0m \u001b[0mBooster\u001b[0m\u001b[0;34m,\u001b[0m \u001b[0mDataset\u001b[0m\u001b[0;34m\u001b[0m\u001b[0;34m\u001b[0m\u001b[0m\n\u001b[0m\u001b[1;32m      9\u001b[0m from .callback import (early_stopping, print_evaluation, record_evaluation,\n\u001b[1;32m     10\u001b[0m                        reset_parameter)\n",
      "\u001b[0;32m~/opt/anaconda3/lib/python3.8/site-packages/lightgbm/basic.py\u001b[0m in \u001b[0;36m<module>\u001b[0;34m\u001b[0m\n\u001b[1;32m     14\u001b[0m \u001b[0;32mimport\u001b[0m \u001b[0mscipy\u001b[0m\u001b[0;34m.\u001b[0m\u001b[0msparse\u001b[0m\u001b[0;34m\u001b[0m\u001b[0;34m\u001b[0m\u001b[0m\n\u001b[1;32m     15\u001b[0m \u001b[0;34m\u001b[0m\u001b[0m\n\u001b[0;32m---> 16\u001b[0;31m from .compat import (PANDAS_INSTALLED, DataFrame, Series, is_dtype_sparse,\n\u001b[0m\u001b[1;32m     17\u001b[0m                      \u001b[0mDataTable\u001b[0m\u001b[0;34m,\u001b[0m\u001b[0;34m\u001b[0m\u001b[0;34m\u001b[0m\u001b[0m\n\u001b[1;32m     18\u001b[0m                      \u001b[0mdecode_string\u001b[0m\u001b[0;34m,\u001b[0m \u001b[0mstring_type\u001b[0m\u001b[0;34m,\u001b[0m\u001b[0;34m\u001b[0m\u001b[0;34m\u001b[0m\u001b[0m\n",
      "\u001b[0;31mImportError\u001b[0m: cannot import name 'PANDAS_INSTALLED' from 'lightgbm.compat' (/Users/gordon/opt/anaconda3/lib/python3.8/site-packages/lightgbm/compat.py)"
     ]
    }
   ],
   "source": [
    "import numpy as np\n",
    "import pandas as pd\n",
    "import sklearn.model_selection\n",
    "import sklearn.metrics\n",
    "from sklearn.preprocessing import LabelEncoder\n",
    "from sklearn.model_selection import KFold, cross_val_score, train_test_split\n",
    "import xgboost as xgb\n",
    "import lightgbm as lgb\n",
    "import matplotlib.pyplot as plt\n",
    "dirname=os.getcwd()\n",
    "data_dir=os.path.join(dirname,\"house-prices-advanced-regression-techniques\")\n",
    "train_path = os.path.join(data_dir,\"train.csv\")\n",
    "test_path = os.path.join(data_dir,\"test.csv\")\n",
    "# load data\n",
    "x_train = pd.read_csv(str(train_path))\n",
    "x_test = pd.read_csv(str(test_path))\n",
    "fig, ax = plt.subplots()\n",
    "ax.scatter(x = x_train['GrLivArea'], y = x_train['SalePrice'])\n",
    "plt.ylabel('SalePrice', fontsize=13)\n",
    "plt.xlabel('GrLivArea', fontsize=13)\n",
    "plt.show()   \n",
    "\n",
    "\n",
    "\n"
   ]
  },
  {
   "cell_type": "code",
   "execution_count": 6,
   "metadata": {},
   "outputs": [
    {
     "output_type": "error",
     "ename": "NameError",
     "evalue": "name 'x_train' is not defined",
     "traceback": [
      "\u001b[0;31m---------------------------------------------------------------------------\u001b[0m",
      "\u001b[0;31mNameError\u001b[0m                                 Traceback (most recent call last)",
      "\u001b[0;32m<ipython-input-6-dcec34c06113>\u001b[0m in \u001b[0;36m<module>\u001b[0;34m\u001b[0m\n\u001b[0;32m----> 1\u001b[0;31m \u001b[0mx_train\u001b[0m \u001b[0;34m=\u001b[0m \u001b[0mx_train\u001b[0m\u001b[0;34m.\u001b[0m\u001b[0mdrop\u001b[0m\u001b[0;34m(\u001b[0m\u001b[0mx_train\u001b[0m\u001b[0;34m[\u001b[0m\u001b[0;34m(\u001b[0m\u001b[0mx_train\u001b[0m\u001b[0;34m[\u001b[0m\u001b[0;34m'GrLivArea'\u001b[0m\u001b[0;34m]\u001b[0m\u001b[0;34m>\u001b[0m\u001b[0;36m4000\u001b[0m\u001b[0;34m)\u001b[0m\u001b[0;34m]\u001b[0m\u001b[0;34m.\u001b[0m\u001b[0mindex\u001b[0m\u001b[0;34m)\u001b[0m\u001b[0;34m\u001b[0m\u001b[0;34m\u001b[0m\u001b[0m\n\u001b[0m\u001b[1;32m      2\u001b[0m \u001b[0mtrain_ID\u001b[0m \u001b[0;34m=\u001b[0m \u001b[0mx_train\u001b[0m\u001b[0;34m[\u001b[0m\u001b[0;34m'Id'\u001b[0m\u001b[0;34m]\u001b[0m\u001b[0;34m\u001b[0m\u001b[0;34m\u001b[0m\u001b[0m\n\u001b[1;32m      3\u001b[0m \u001b[0mtest_ID\u001b[0m \u001b[0;34m=\u001b[0m \u001b[0mx_test\u001b[0m\u001b[0;34m[\u001b[0m\u001b[0;34m'Id'\u001b[0m\u001b[0;34m]\u001b[0m\u001b[0;34m\u001b[0m\u001b[0;34m\u001b[0m\u001b[0m\n\u001b[1;32m      4\u001b[0m \u001b[0mx_train\u001b[0m\u001b[0;34m.\u001b[0m\u001b[0mdrop\u001b[0m\u001b[0;34m(\u001b[0m\u001b[0;34m'Id'\u001b[0m\u001b[0;34m,\u001b[0m \u001b[0maxis\u001b[0m \u001b[0;34m=\u001b[0m \u001b[0;36m1\u001b[0m\u001b[0;34m,\u001b[0m \u001b[0minplace\u001b[0m \u001b[0;34m=\u001b[0m \u001b[0;32mTrue\u001b[0m\u001b[0;34m)\u001b[0m\u001b[0;34m\u001b[0m\u001b[0;34m\u001b[0m\u001b[0m\n\u001b[1;32m      5\u001b[0m \u001b[0mx_test\u001b[0m\u001b[0;34m.\u001b[0m\u001b[0mdrop\u001b[0m\u001b[0;34m(\u001b[0m\u001b[0;34m'Id'\u001b[0m\u001b[0;34m,\u001b[0m \u001b[0maxis\u001b[0m \u001b[0;34m=\u001b[0m \u001b[0;36m1\u001b[0m\u001b[0;34m,\u001b[0m \u001b[0minplace\u001b[0m \u001b[0;34m=\u001b[0m \u001b[0;32mTrue\u001b[0m\u001b[0;34m)\u001b[0m\u001b[0;34m\u001b[0m\u001b[0;34m\u001b[0m\u001b[0m\n",
      "\u001b[0;31mNameError\u001b[0m: name 'x_train' is not defined"
     ]
    }
   ],
   "source": [
    "x_train = x_train.drop(x_train[(x_train['GrLivArea']>4000)].index)\n",
    "train_ID = x_train['Id']\n",
    "test_ID = x_test['Id']   \n",
    "x_train.drop('Id', axis = 1, inplace = True)\n",
    "x_test.drop('Id', axis = 1, inplace = True)\n",
    "train = x_train.shape[0]\n",
    "# data smoothing\n",
    "x_train[\"SalePrice\"] = np.log1p(x_train[\"SalePrice\"])\n",
    "y_train = x_train.pop('SalePrice')\n",
    "y_train = pd.DataFrame(y_train)\n",
    "all_data = pd.concat((x_train,x_test)).reset_index(drop=True)"
   ]
  },
  {
   "cell_type": "code",
   "execution_count": null,
   "metadata": {},
   "outputs": [],
   "source": [
    "corrmat = x_train.corr()\n",
    "f, ax = plt.subplots(figsize=(12, 9))\n",
    "sns.heatmap(corrmat, vmax=.8, square=True);"
   ]
  },
  {
   "cell_type": "code",
   "execution_count": 61,
   "metadata": {},
   "outputs": [],
   "source": [
    "# Impute Nan values according to data_description.txt\n",
    "all_data[\"PoolQC\"] = all_data[\"PoolQC\"].fillna(\"None\")\n",
    "all_data[\"MiscFeature\"] = all_data[\"MiscFeature\"].fillna(\"None\")\n",
    "all_data[\"Alley\"] = all_data[\"Alley\"].fillna(\"None\")\n",
    "all_data[\"Fence\"] = all_data[\"Fence\"].fillna(\"None\") \n",
    "all_data[\"FireplaceQu\"] = all_data[\"FireplaceQu\"].fillna(\"None\") \n",
    "all_data['FireplaceQu']=all_data['FireplaceQu'].fillna(all_data['FireplaceQu'].mode()[0])\n",
    "all_data['LotFrontage']=all_data['LotFrontage'].fillna(all_data['LotFrontage'].median())\n",
    "all_data['GarageYrBlt']=all_data['GarageYrBlt'].fillna(0)\n",
    "all_data['GarageType']=all_data['GarageType'].fillna(\"None\")\n",
    "all_data['GarageFinish']=all_data['GarageFinish'].fillna(\"None\")\n",
    "all_data['GarageQual']=all_data['GarageQual'].fillna(\"None\")\n",
    "all_data['GarageCond']=all_data['GarageCond'].fillna(\"None\")\n",
    "all_data['BsmtFinType2']=all_data['BsmtFinType2'].fillna(\"None\")\n",
    "all_data['BsmtExposure']=all_data['BsmtExposure'].fillna(\"None\")\n",
    "all_data['BsmtFinType1']=all_data['BsmtFinType1'].fillna(\"None\")\n",
    "all_data['BsmtCond']=all_data['BsmtCond'].fillna(\"None\")\n",
    "all_data['BsmtQual']=all_data['BsmtQual'].fillna(\"None\")\n",
    "all_data['MasVnrArea']=all_data['MasVnrArea'].fillna(0)\n",
    "all_data['MasVnrType']=all_data['MasVnrType'].fillna(\"None\")\n",
    "all_data['Electrical']=all_data['Electrical'].fillna(all_data['Electrical'].mode()[0])\n",
    "all_data['MSZoning']=all_data['MSZoning'].fillna(all_data['MSZoning'].mode()[0])\n",
    "all_data['Functional']=all_data['Functional'].fillna(all_data['Functional'].mode()[0])\n",
    "all_data['Utilities']=all_data['Utilities'].fillna(all_data['Utilities'].mode()[0])\n",
    "all_data['SaleType']=all_data['SaleType'].fillna(all_data['SaleType'].mode()[0])\n",
    "all_data['GarageArea']=all_data['GarageArea'].fillna(0)\n",
    "all_data['GarageCars']=all_data['GarageCars'].fillna(0)\n",
    "all_data['KitchenQual']=all_data['KitchenQual'].fillna(all_data['KitchenQual'].mode()[0])\n",
    "all_data['TotalBsmtSF']=all_data['TotalBsmtSF'].fillna(0)\n",
    "all_data['BsmtUnfSF']=all_data['BsmtUnfSF'].fillna(0)\n",
    "all_data['BsmtFinSF2']=all_data['BsmtFinSF2'].fillna(0)\n",
    "all_data['BsmtFinSF1']=all_data['BsmtFinSF1'].fillna(0)\n",
    "all_data['Exterior2nd']=all_data['Exterior2nd'].fillna(all_data['Exterior2nd'].mode()[0])\n",
    "all_data['Exterior1st']=all_data['Exterior1st'].fillna(all_data['Exterior1st'].mode()[0])\n",
    "all_data['BsmtHalfBath']=all_data['BsmtHalfBath'].fillna(0)\n",
    "all_data['BsmtFullBath']=all_data['BsmtFullBath'].fillna(0)\n",
    "all_data['MSSubClass'] = all_data['MSSubClass'].fillna(\"None\")\n",
    "\n",
    "#Feature engineering\n",
    "all_data['TotalSF'] = all_data['TotalBsmtSF'] + all_data['1stFlrSF'] + all_data['2ndFlrSF'] \n",
    "\n",
    "# data smoothing\n",
    "for feature in all_data:\n",
    "    if all_data[feature].dtype != \"object\":\n",
    "            all_data[feature] = np.log1p(all_data[feature])\n",
    "                \n",
    "# transform numeric features into categorical features\n",
    "all_data['MSSubClass'] = all_data['MSSubClass'].astype(str)\n",
    "all_data['OverallQual'] = all_data['OverallQual'].astype(str)\n",
    "all_data['OverallCond'] = all_data['OverallCond'].astype(str)\n",
    "all_data['YrSold'] = all_data['YrSold'].astype(str)\n",
    "all_data['MoSold'] = all_data['MoSold'].astype(str)\n",
    "categorical_features = \\\n",
    "('FireplaceQu', 'BsmtQual', 'BsmtCond', 'GarageQual', 'GarageCond', \n",
    "'ExterQual', 'ExterCond','HeatingQC', 'PoolQC', 'KitchenQual', 'BsmtFinType1', \n",
    "'BsmtFinType2', 'Functional', 'Fence', 'BsmtExposure', 'GarageFinish', 'LandSlope',\n",
    "'LotShape', 'PavedDrive', 'Street', 'Alley', 'CentralAir', 'MSSubClass', 'OverallQual',\n",
    "'OverallCond', 'YrSold', 'MoSold','MSSubClass')\n",
    "for category in categorical_features:\n",
    "    label = LabelEncoder() \n",
    "    label.fit(list(all_data[category].values))\n",
    "    all_data[category] = label.transform(list(all_data[category].values))\n",
    "all_data = pd.get_dummies(all_data)\n",
    "x_train = all_data[:train]\n",
    "x_test = all_data[train:]"
   ]
  },
  {
   "cell_type": "code",
   "execution_count": 64,
   "metadata": {
    "tags": []
   },
   "outputs": [],
   "source": [
    "# model_xgb = xgb.XGBRegressor()\n",
    "# model_xgb.fit(x_train, y_train)\n",
    "# prediction = np.expm1(model_xgb.predict(x_test))#data smoothing\n",
    "\n",
    "model_lgb = lgb.LGBMRegressor(objective='regression')\n",
    "model_lgb.fit(x_train, y_train)\n",
    "lgb_pred = np.expm1(model_lgb.predict(x_test))\n",
    "result = pd.DataFrame()\n",
    "result['Id'] = test_ID\n",
    "result['SalePrice'] = lgb_pred\n",
    "result.to_csv('submission_LGB.csv',index=False)\n",
    "\n"
   ]
  },
  {
   "cell_type": "code",
   "execution_count": null,
   "metadata": {},
   "outputs": [],
   "source": [
    "from auto_ml import Predictor\n",
    "ml_predictor = Predictor(type_of_estimator='regressor', column_descriptions=column_descriptions)\n",
    "ml_predictor.train(x_train)\n",
    "ml_predictor.score(df_test, df_test.MEDV)"
   ]
  }
 ]
}