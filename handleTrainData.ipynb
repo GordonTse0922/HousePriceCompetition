{
 "metadata": {
  "language_info": {
   "codemirror_mode": {
    "name": "ipython",
    "version": 3
   },
   "file_extension": ".py",
   "mimetype": "text/x-python",
   "name": "python",
   "nbconvert_exporter": "python",
   "pygments_lexer": "ipython3",
   "version": "3.8.3-final"
  },
  "orig_nbformat": 2,
  "kernelspec": {
   "name": "python38364bitbasecondaabde441be44b4b93a013e481f4c23c20",
   "display_name": "Python 3.8.3 64-bit ('base': conda)"
  }
 },
 "nbformat": 4,
 "nbformat_minor": 2,
 "cells": [
  {
   "cell_type": "code",
   "execution_count": 1,
   "metadata": {},
   "outputs": [
    {
     "output_type": "execute_result",
     "data": {
      "text/plain": [
       "PoolQC          1453\n",
       "MiscFeature     1406\n",
       "Alley           1369\n",
       "Fence           1179\n",
       "FireplaceQu      690\n",
       "LotFrontage      259\n",
       "GarageYrBlt       81\n",
       "GarageType        81\n",
       "GarageFinish      81\n",
       "GarageQual        81\n",
       "GarageCond        81\n",
       "BsmtFinType2      38\n",
       "BsmtExposure      38\n",
       "BsmtFinType1      37\n",
       "BsmtCond          37\n",
       "BsmtQual          37\n",
       "MasVnrArea         8\n",
       "MasVnrType         8\n",
       "Electrical         1\n",
       "dtype: int64"
      ]
     },
     "metadata": {},
     "execution_count": 1
    }
   ],
   "source": [
    "import os\n",
    "import numpy as np\n",
    "import pandas as pd\n",
    "dirname=os.getcwd()\n",
    "data_dir=os.path.join(dirname,\"house-prices-advanced-regression-techniques\")\n",
    "train = pd.read_csv(os.path.join(data_dir,\"train.csv\"))\n",
    "test = pd.read_csv(os.path.join(data_dir,\"test.csv\"))\n",
    "nullChecker= train.isnull().sum()\n",
    "nullChecker[nullChecker>0].sort_values(ascending=False)"
   ]
  },
  {
   "cell_type": "code",
   "execution_count": 2,
   "metadata": {},
   "outputs": [
    {
     "output_type": "execute_result",
     "data": {
      "text/plain": [
       "Series([], dtype: int64)"
      ]
     },
     "metadata": {},
     "execution_count": 2
    }
   ],
   "source": [
    "# Drop ID and features with ~90% missing values\n",
    "train.drop(['Id','PoolQC','MiscFeature','Alley','Fence'],axis=1,inplace=True)\n",
    "# Fill missing values with median for int/float type and mode for object type\n",
    "train['FireplaceQu']=train['FireplaceQu'].fillna(train['FireplaceQu'].mode()[0])\n",
    "train['LotFrontage']=train['LotFrontage'].fillna(train['LotFrontage'].median())\n",
    "train['GarageYrBlt']=train['GarageYrBlt'].fillna(train['GarageYrBlt'].median())\n",
    "train['GarageType']=train['GarageType'].fillna(train['GarageType'].mode()[0])\n",
    "train['GarageFinish']=train['GarageFinish'].fillna(train['GarageFinish'].mode()[0])\n",
    "train['GarageQual']=train['GarageQual'].fillna(train['GarageQual'].mode()[0])\n",
    "train['GarageCond']=train['GarageCond'].fillna(train['GarageCond'].mode()[0])\n",
    "train['BsmtFinType2']=train['BsmtFinType2'].fillna(train['BsmtFinType2'].mode()[0])\n",
    "train['BsmtExposure']=train['BsmtExposure'].fillna(train['BsmtExposure'].mode()[0])\n",
    "train['BsmtFinType1']=train['BsmtFinType1'].fillna(train['BsmtFinType1'].mode()[0])\n",
    "train['BsmtCond']=train['BsmtCond'].fillna(train['BsmtCond'].mode()[0])\n",
    "train['BsmtQual']=train['BsmtQual'].fillna(train['BsmtQual'].mode()[0])\n",
    "train['MasVnrArea']=train['MasVnrArea'].fillna(train['MasVnrArea'].mode()[0])\n",
    "train['MasVnrType']=train['MasVnrType'].fillna(train['MasVnrType'].mode()[0])\n",
    "train['Electrical']=train['Electrical'].fillna(train['Electrical'].mode()[0])\n",
    "nullChecker2= train.isnull().sum()\n",
    "nullChecker2[nullChecker2>0].sort_values(ascending=False)"
   ]
  },
  {
   "cell_type": "code",
   "execution_count": 3,
   "metadata": {},
   "outputs": [
    {
     "output_type": "execute_result",
     "data": {
      "text/plain": [
       "(1460, 76)"
      ]
     },
     "metadata": {},
     "execution_count": 3
    }
   ],
   "source": [
    "train.shape"
   ]
  }
 ]
}